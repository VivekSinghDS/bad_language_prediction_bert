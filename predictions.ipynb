{
 "cells": [
  {
   "cell_type": "code",
   "execution_count": 1,
   "id": "e85a8dab",
   "metadata": {},
   "outputs": [],
   "source": [
    "from sentence_transformers import SentenceTransformer\n",
    "import pickle \n",
    "import scipy\n"
   ]
  },
  {
   "cell_type": "code",
   "execution_count": null,
   "id": "f4e23a52",
   "metadata": {},
   "outputs": [
    {
     "name": "stdout",
     "output_type": "stream",
     "text": [
      "***** Pickle file loaded *****\n"
     ]
    }
   ],
   "source": [
    "with open('query_embeddings_clean.pickle', 'rb') as file:\n",
    "    \n",
    "    query_embeddings = pickle.load(file)\n",
    "    print('*'*5, 'Pickle file loaded', '*'*5)\n",
    "embedder = SentenceTransformer('bert-base-nli-mean-tokens')"
   ]
  },
  {
   "cell_type": "code",
   "execution_count": 3,
   "id": "9d30fb3b",
   "metadata": {},
   "outputs": [
    {
     "name": "stdout",
     "output_type": "stream",
     "text": [
      "[0.05024188]\n"
     ]
    }
   ],
   "source": [
    "def check(value):\n",
    "    corpus_embeddings = embedder.encode(value)\n",
    "    distances = scipy.spatial.distance.cdist(query_embeddings, [corpus_embeddings], \"cosine\")[0]\n",
    "    print(1-distances)\n",
    "    if(1-distances>=0.5):\n",
    "        x = 'The above statement needs to be flagged'\n",
    "        return x\n",
    "    \n",
    "    else:\n",
    "        x = 'Nothing wrong here'\n",
    "        return x\n",
    "    \n",
    "    \n",
    "value = check('It was a good day !')"
   ]
  },
  {
   "cell_type": "code",
   "execution_count": null,
   "id": "23d589f3",
   "metadata": {},
   "outputs": [],
   "source": []
  }
 ],
 "metadata": {
  "kernelspec": {
   "display_name": "Python 3",
   "language": "python",
   "name": "python3"
  },
  "language_info": {
   "codemirror_mode": {
    "name": "ipython",
    "version": 3
   },
   "file_extension": ".py",
   "mimetype": "text/x-python",
   "name": "python",
   "nbconvert_exporter": "python",
   "pygments_lexer": "ipython3",
   "version": "3.8.8"
  }
 },
 "nbformat": 4,
 "nbformat_minor": 5
}
