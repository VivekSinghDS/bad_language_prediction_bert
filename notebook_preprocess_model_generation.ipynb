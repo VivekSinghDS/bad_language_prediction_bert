{
 "cells": [
  {
   "cell_type": "code",
   "execution_count": 6,
   "id": "aed14761",
   "metadata": {},
   "outputs": [],
   "source": [
    "import pandas as pd \n",
    "# !pip install gingerit\n",
    "# !pip install cloudscraper\n",
    "# !pip install sentence-transformers\n",
    "from sentence_transformers import SentenceTransformer"
   ]
  },
  {
   "cell_type": "code",
   "execution_count": 2,
   "id": "f18f8465",
   "metadata": {},
   "outputs": [],
   "source": [
    "df = pd.read_csv('./train.csv')"
   ]
  },
  {
   "cell_type": "code",
   "execution_count": 3,
   "id": "c3f57031",
   "metadata": {},
   "outputs": [
    {
     "data": {
      "text/plain": [
       "138234    Oaks and Homophobia\\nI provided a full citatio...\n",
       "Name: comment_text, dtype: object"
      ]
     },
     "execution_count": 3,
     "metadata": {},
     "output_type": "execute_result"
    }
   ],
   "source": [
    "df[df['id']=='e3b8bc8940f2a818']['comment_text']"
   ]
  },
  {
   "cell_type": "code",
   "execution_count": 4,
   "id": "18ac0f47",
   "metadata": {},
   "outputs": [],
   "source": [
    "# df.sample(30)"
   ]
  },
  {
   "cell_type": "code",
   "execution_count": 5,
   "id": "cb8db38f",
   "metadata": {},
   "outputs": [],
   "source": [
    "df = (df[(df['toxic']==1) | (df['severe_toxic']==1) | (df['obscene']==1) | (df['threat']==1) | \\\n",
    "       (df['insult']==1) | (df['identity_hate']==1)])"
   ]
  },
  {
   "cell_type": "code",
   "execution_count": 6,
   "id": "8510c378",
   "metadata": {},
   "outputs": [
    {
     "data": {
      "text/plain": [
       "(16225, 8)"
      ]
     },
     "execution_count": 6,
     "metadata": {},
     "output_type": "execute_result"
    }
   ],
   "source": [
    "df.shape"
   ]
  },
  {
   "cell_type": "code",
   "execution_count": 7,
   "id": "604bdafc",
   "metadata": {},
   "outputs": [],
   "source": [
    "# df.sample(20)"
   ]
  },
  {
   "cell_type": "code",
   "execution_count": 8,
   "id": "1cf8e2de",
   "metadata": {},
   "outputs": [
    {
     "data": {
      "text/plain": [
       "{'text': 'helo',\n",
       " 'result': 'Hello',\n",
       " 'corrections': [{'start': 0,\n",
       "   'text': 'helo',\n",
       "   'correct': 'Hello',\n",
       "   'definition': 'used as a greeting'}]}"
      ]
     },
     "execution_count": 8,
     "metadata": {},
     "output_type": "execute_result"
    }
   ],
   "source": [
    "import requests\n",
    "import cloudscraper\n",
    "URL = \"https://services.gingersoftware.com/Ginger/correct/jsonSecured/GingerTheTextFull\"  # noqa\n",
    "API_KEY = \"6ae0c3a0-afdc-4532-a810-82ded0054236\"\n",
    "\n",
    "\n",
    "class GingerIt(object):\n",
    "    def __init__(self):\n",
    "        self.url = URL\n",
    "        self.api_key = API_KEY\n",
    "        self.api_version = \"2.0\"\n",
    "        self.lang = \"US\"\n",
    "\n",
    "    def parse(self, text, verify=True):\n",
    "        session = cloudscraper.create_scraper()\n",
    "        request = session.get(\n",
    "            self.url,\n",
    "            params={\n",
    "                \"lang\": self.lang,\n",
    "                \"apiKey\": self.api_key,\n",
    "                \"clientVersion\": self.api_version,\n",
    "                \"text\": text,\n",
    "            },\n",
    "            verify=verify,\n",
    "        )\n",
    "        data = request.json()\n",
    "        return self._process_data(text, data)\n",
    "\n",
    "    @staticmethod\n",
    "    def _change_char(original_text, from_position, to_position, change_with):\n",
    "        return \"{}{}{}\".format(\n",
    "            original_text[:from_position], change_with, original_text[to_position + 1 :]\n",
    "        )\n",
    "\n",
    "    def _process_data(self, text, data):\n",
    "        result = text\n",
    "        corrections = []\n",
    "\n",
    "        for suggestion in reversed(data[\"Corrections\"]):\n",
    "            start = suggestion[\"From\"]\n",
    "            end = suggestion[\"To\"]\n",
    "\n",
    "            if suggestion[\"Suggestions\"]:\n",
    "                suggest = suggestion[\"Suggestions\"][0]\n",
    "                result = self._change_char(result, start, end, suggest[\"Text\"])\n",
    "\n",
    "                corrections.append(\n",
    "                    {\n",
    "                        \"start\": start,\n",
    "                        \"text\": text[start : end + 1],\n",
    "                        \"correct\": suggest.get(\"Text\", None),\n",
    "                        \"definition\": suggest.get(\"Definition\", None),\n",
    "                    }\n",
    "                )\n",
    "\n",
    "        return {\"text\": text, \"result\": result, \"corrections\": corrections}\n",
    "    \n",
    "    \n",
    "g = GingerIt()\n",
    "g.parse('helo')"
   ]
  },
  {
   "cell_type": "code",
   "execution_count": 9,
   "id": "a8bf2726",
   "metadata": {},
   "outputs": [
    {
     "data": {
      "text/html": [
       "<div>\n",
       "<style scoped>\n",
       "    .dataframe tbody tr th:only-of-type {\n",
       "        vertical-align: middle;\n",
       "    }\n",
       "\n",
       "    .dataframe tbody tr th {\n",
       "        vertical-align: top;\n",
       "    }\n",
       "\n",
       "    .dataframe thead th {\n",
       "        text-align: right;\n",
       "    }\n",
       "</style>\n",
       "<table border=\"1\" class=\"dataframe\">\n",
       "  <thead>\n",
       "    <tr style=\"text-align: right;\">\n",
       "      <th></th>\n",
       "      <th>id</th>\n",
       "      <th>comment_text</th>\n",
       "      <th>toxic</th>\n",
       "      <th>severe_toxic</th>\n",
       "      <th>obscene</th>\n",
       "      <th>threat</th>\n",
       "      <th>insult</th>\n",
       "      <th>identity_hate</th>\n",
       "    </tr>\n",
       "  </thead>\n",
       "  <tbody>\n",
       "    <tr>\n",
       "      <th>57976</th>\n",
       "      <td>9b3b3d1e84ea0246</td>\n",
       "      <td>It also could forward to male homosexual orgie...</td>\n",
       "      <td>1</td>\n",
       "      <td>0</td>\n",
       "      <td>0</td>\n",
       "      <td>0</td>\n",
       "      <td>0</td>\n",
       "      <td>0</td>\n",
       "    </tr>\n",
       "    <tr>\n",
       "      <th>49057</th>\n",
       "      <td>83281a3656cbe467</td>\n",
       "      <td>FIRST YOU MURDER JESUS. NOW YOU CRUCIFY THE PA...</td>\n",
       "      <td>1</td>\n",
       "      <td>0</td>\n",
       "      <td>0</td>\n",
       "      <td>0</td>\n",
       "      <td>0</td>\n",
       "      <td>0</td>\n",
       "    </tr>\n",
       "    <tr>\n",
       "      <th>22730</th>\n",
       "      <td>3c041532a25f96d5</td>\n",
       "      <td>Go ahead try and block me!  Just try it Drakhan!</td>\n",
       "      <td>1</td>\n",
       "      <td>0</td>\n",
       "      <td>0</td>\n",
       "      <td>0</td>\n",
       "      <td>0</td>\n",
       "      <td>0</td>\n",
       "    </tr>\n",
       "    <tr>\n",
       "      <th>35592</th>\n",
       "      <td>5f1e6493fe46db25</td>\n",
       "      <td>You are full of (sh)it. \\n\\nWhat is blatent or...</td>\n",
       "      <td>1</td>\n",
       "      <td>0</td>\n",
       "      <td>1</td>\n",
       "      <td>0</td>\n",
       "      <td>1</td>\n",
       "      <td>0</td>\n",
       "    </tr>\n",
       "    <tr>\n",
       "      <th>19184</th>\n",
       "      <td>32aaf210427f24a8</td>\n",
       "      <td>YOU'RE SO WELCOME- SMOKE WEED ERRRRRRRRYYYYYDA...</td>\n",
       "      <td>1</td>\n",
       "      <td>0</td>\n",
       "      <td>0</td>\n",
       "      <td>0</td>\n",
       "      <td>0</td>\n",
       "      <td>0</td>\n",
       "    </tr>\n",
       "  </tbody>\n",
       "</table>\n",
       "</div>"
      ],
      "text/plain": [
       "                     id                                       comment_text  \\\n",
       "57976  9b3b3d1e84ea0246  It also could forward to male homosexual orgie...   \n",
       "49057  83281a3656cbe467  FIRST YOU MURDER JESUS. NOW YOU CRUCIFY THE PA...   \n",
       "22730  3c041532a25f96d5   Go ahead try and block me!  Just try it Drakhan!   \n",
       "35592  5f1e6493fe46db25  You are full of (sh)it. \\n\\nWhat is blatent or...   \n",
       "19184  32aaf210427f24a8  YOU'RE SO WELCOME- SMOKE WEED ERRRRRRRRYYYYYDA...   \n",
       "\n",
       "       toxic  severe_toxic  obscene  threat  insult  identity_hate  \n",
       "57976      1             0        0       0       0              0  \n",
       "49057      1             0        0       0       0              0  \n",
       "22730      1             0        0       0       0              0  \n",
       "35592      1             0        1       0       1              0  \n",
       "19184      1             0        0       0       0              0  "
      ]
     },
     "execution_count": 9,
     "metadata": {},
     "output_type": "execute_result"
    }
   ],
   "source": [
    "df.sample(5)"
   ]
  },
  {
   "cell_type": "code",
   "execution_count": 10,
   "id": "5b2a757e",
   "metadata": {},
   "outputs": [
    {
     "data": {
      "text/plain": [
       "14101    sup niggaz \\n\\ncan u unprotect so i can post l...\n",
       "Name: comment_text, dtype: object"
      ]
     },
     "execution_count": 10,
     "metadata": {},
     "output_type": "execute_result"
    }
   ],
   "source": [
    "df[df['id']=='252ee9942ba7a338']['comment_text']"
   ]
  },
  {
   "cell_type": "code",
   "execution_count": 9,
   "id": "ca553544",
   "metadata": {},
   "outputs": [],
   "source": [
    "import re \n",
    "def remove_waste(input_text):\n",
    "    \n",
    "    \n",
    "    punct = re.compile(r'(\\w+)')\n",
    "\n",
    "    \n",
    "    tokenized = [m.group() for m in punct.finditer(input_text)]\n",
    "    input_text = ' '.join(tokenized)\n",
    "     \n",
    "    \n",
    "    \n",
    "    if(re.findall('\\d+', input_text)):\n",
    "        input_text = re.sub(\"\\d+\", '', input_text)\n",
    "    if('\\n' in input_text):\n",
    "        input_text = input_text.replace('\\n', '')\n",
    "        \n",
    "#     if('!' in input_text):\n",
    "#         input_text = input_text.replace('!', '')\n",
    "        \n",
    "    if('=' in input_text):\n",
    "        input_text = input_text.replace('=', '')\n",
    "        \n",
    "#     if(\"''\" in input_text):\n",
    "#         input_text = input_text.replace(\"''\", '')\n",
    "        \n",
    "    if(\")\" in input_text or '(' in input_text):\n",
    "        input_text = input_text.replace(\"(\", '')\n",
    "        input_text = input_text.replace(\")\", '')\n",
    "        \n",
    "    return input_text"
   ]
  },
  {
   "cell_type": "code",
   "execution_count": 15,
   "id": "8a7547ef",
   "metadata": {},
   "outputs": [],
   "source": [
    "import re\n",
    "import string\n",
    "def  clean_text(text):\n",
    "    text =  text.lower()\n",
    "    text = re.sub(r\"i'm\", \"i am\", text)\n",
    "    text = re.sub(r\"\\r\", \"\", text)\n",
    "    text = re.sub(r\"he's\", \"he is\", text)\n",
    "    text = re.sub(r\"she's\", \"she is\", text)\n",
    "    text = re.sub(r\"it's\", \"it is\", text)\n",
    "    text = re.sub(r\"that's\", \"that is\", text)\n",
    "    text = re.sub(r\"what's\", \"that is\", text)\n",
    "    text = re.sub(r\"where's\", \"where is\", text)\n",
    "    text = re.sub(r\"how's\", \"how is\", text)\n",
    "    text = re.sub(r\"\\'ll\", \" will\", text)\n",
    "    text = re.sub(r\"\\'ve\", \" have\", text)\n",
    "    text = re.sub(r\"\\'re\", \" are\", text)\n",
    "    text = re.sub(r\"\\'d\", \" would\", text)\n",
    "    text = re.sub(r\"\\'re\", \" are\", text)\n",
    "    text = re.sub(r\"won't\", \"will not\", text)\n",
    "    text = re.sub(r\"can't\", \"cannot\", text)\n",
    "    text = re.sub(r\"n't\", \" not\", text)\n",
    "    text = re.sub(r\"n'\", \"ng\", text)\n",
    "    text = re.sub(r\"'bout\", \"about\", text)\n",
    "    text = re.sub(r\"'til\", \"until\", text)\n",
    "    text = re.sub(r\"[-()\\\"#/@;:<>{}`+=~|.!?,]\", \"\", text)\n",
    "    text = text.translate(str.maketrans('', '', string.punctuation)) \n",
    "    text = re.sub(\"(\\\\W)\",\" \",text) \n",
    "    text = re.sub('\\S*\\d\\S*\\s*','', text)\n",
    "    \n",
    "    return text"
   ]
  },
  {
   "cell_type": "code",
   "execution_count": 16,
   "id": "44470099",
   "metadata": {},
   "outputs": [],
   "source": [
    "# df['comment_text'] = df['comment_text'].str.lower()\n",
    "df['comment_text'] = df['comment_text'].apply(clean_text)"
   ]
  },
  {
   "cell_type": "code",
   "execution_count": 17,
   "id": "8aad87f9",
   "metadata": {},
   "outputs": [
    {
     "data": {
      "text/html": [
       "<div>\n",
       "<style scoped>\n",
       "    .dataframe tbody tr th:only-of-type {\n",
       "        vertical-align: middle;\n",
       "    }\n",
       "\n",
       "    .dataframe tbody tr th {\n",
       "        vertical-align: top;\n",
       "    }\n",
       "\n",
       "    .dataframe thead th {\n",
       "        text-align: right;\n",
       "    }\n",
       "</style>\n",
       "<table border=\"1\" class=\"dataframe\">\n",
       "  <thead>\n",
       "    <tr style=\"text-align: right;\">\n",
       "      <th></th>\n",
       "      <th>id</th>\n",
       "      <th>comment_text</th>\n",
       "      <th>toxic</th>\n",
       "      <th>severe_toxic</th>\n",
       "      <th>obscene</th>\n",
       "      <th>threat</th>\n",
       "      <th>insult</th>\n",
       "      <th>identity_hate</th>\n",
       "    </tr>\n",
       "  </thead>\n",
       "  <tbody>\n",
       "    <tr>\n",
       "      <th>48380</th>\n",
       "      <td>8154e81593902da3</td>\n",
       "      <td>drop dead  you are a cancer on wikipedia and i...</td>\n",
       "      <td>1</td>\n",
       "      <td>0</td>\n",
       "      <td>0</td>\n",
       "      <td>0</td>\n",
       "      <td>0</td>\n",
       "      <td>0</td>\n",
       "    </tr>\n",
       "    <tr>\n",
       "      <th>23303</th>\n",
       "      <td>3d8d1b373b2b9ef6</td>\n",
       "      <td>hey bitch stop taking down our fucking event p...</td>\n",
       "      <td>1</td>\n",
       "      <td>0</td>\n",
       "      <td>1</td>\n",
       "      <td>0</td>\n",
       "      <td>1</td>\n",
       "      <td>1</td>\n",
       "    </tr>\n",
       "    <tr>\n",
       "      <th>114961</th>\n",
       "      <td>66c6426e1d8cf745</td>\n",
       "      <td>you are making a fool of yourself this is not...</td>\n",
       "      <td>1</td>\n",
       "      <td>0</td>\n",
       "      <td>0</td>\n",
       "      <td>0</td>\n",
       "      <td>0</td>\n",
       "      <td>0</td>\n",
       "    </tr>\n",
       "    <tr>\n",
       "      <th>151504</th>\n",
       "      <td>7e3645ab72b9f8eb</td>\n",
       "      <td>ok listen airplane guy  how dare you  do u hja...</td>\n",
       "      <td>1</td>\n",
       "      <td>0</td>\n",
       "      <td>0</td>\n",
       "      <td>0</td>\n",
       "      <td>0</td>\n",
       "      <td>0</td>\n",
       "    </tr>\n",
       "    <tr>\n",
       "      <th>83381</th>\n",
       "      <td>df18782baef37592</td>\n",
       "      <td>do not be deliberately dense unless of course ...</td>\n",
       "      <td>1</td>\n",
       "      <td>0</td>\n",
       "      <td>0</td>\n",
       "      <td>0</td>\n",
       "      <td>0</td>\n",
       "      <td>0</td>\n",
       "    </tr>\n",
       "    <tr>\n",
       "      <th>147515</th>\n",
       "      <td>3d876ef81c8cc38c</td>\n",
       "      <td>old redneck jokes the name   the point of the ...</td>\n",
       "      <td>1</td>\n",
       "      <td>0</td>\n",
       "      <td>0</td>\n",
       "      <td>0</td>\n",
       "      <td>0</td>\n",
       "      <td>0</td>\n",
       "    </tr>\n",
       "    <tr>\n",
       "      <th>135541</th>\n",
       "      <td>d4dc571558fad82c</td>\n",
       "      <td>the guy sounds like a def loser y do u care so...</td>\n",
       "      <td>1</td>\n",
       "      <td>0</td>\n",
       "      <td>0</td>\n",
       "      <td>0</td>\n",
       "      <td>1</td>\n",
       "      <td>0</td>\n",
       "    </tr>\n",
       "    <tr>\n",
       "      <th>46155</th>\n",
       "      <td>7b50a142ad5a428d</td>\n",
       "      <td>so fuck off and die rape fantasising sluts</td>\n",
       "      <td>1</td>\n",
       "      <td>1</td>\n",
       "      <td>1</td>\n",
       "      <td>1</td>\n",
       "      <td>1</td>\n",
       "      <td>1</td>\n",
       "    </tr>\n",
       "    <tr>\n",
       "      <th>36844</th>\n",
       "      <td>62627704f85947cf</td>\n",
       "      <td>so you admit youre a fag</td>\n",
       "      <td>1</td>\n",
       "      <td>0</td>\n",
       "      <td>0</td>\n",
       "      <td>0</td>\n",
       "      <td>1</td>\n",
       "      <td>0</td>\n",
       "    </tr>\n",
       "    <tr>\n",
       "      <th>106743</th>\n",
       "      <td>3ae0b044c136fc42</td>\n",
       "      <td>son of a bitch i will revert your edits on ter...</td>\n",
       "      <td>1</td>\n",
       "      <td>0</td>\n",
       "      <td>1</td>\n",
       "      <td>0</td>\n",
       "      <td>1</td>\n",
       "      <td>0</td>\n",
       "    </tr>\n",
       "    <tr>\n",
       "      <th>3111</th>\n",
       "      <td>08656465bd64aba7</td>\n",
       "      <td>ihad sex with katy perry last nught and my mom...</td>\n",
       "      <td>1</td>\n",
       "      <td>0</td>\n",
       "      <td>0</td>\n",
       "      <td>0</td>\n",
       "      <td>0</td>\n",
       "      <td>0</td>\n",
       "    </tr>\n",
       "    <tr>\n",
       "      <th>5450</th>\n",
       "      <td>0e88aa059bd1d154</td>\n",
       "      <td>wow you edited the comment making me look l...</td>\n",
       "      <td>1</td>\n",
       "      <td>0</td>\n",
       "      <td>0</td>\n",
       "      <td>0</td>\n",
       "      <td>0</td>\n",
       "      <td>0</td>\n",
       "    </tr>\n",
       "    <tr>\n",
       "      <th>55886</th>\n",
       "      <td>95547763d193cf0c</td>\n",
       "      <td>rutherford b hayes edits   please refrain f...</td>\n",
       "      <td>1</td>\n",
       "      <td>0</td>\n",
       "      <td>0</td>\n",
       "      <td>0</td>\n",
       "      <td>0</td>\n",
       "      <td>0</td>\n",
       "    </tr>\n",
       "    <tr>\n",
       "      <th>129815</th>\n",
       "      <td>b6706664110874e2</td>\n",
       "      <td>sitush is an assholedie you dog</td>\n",
       "      <td>1</td>\n",
       "      <td>0</td>\n",
       "      <td>1</td>\n",
       "      <td>1</td>\n",
       "      <td>1</td>\n",
       "      <td>0</td>\n",
       "    </tr>\n",
       "    <tr>\n",
       "      <th>75782</th>\n",
       "      <td>cac01ef1fa02770f</td>\n",
       "      <td>you can eat my shithole you can eat my shithol...</td>\n",
       "      <td>1</td>\n",
       "      <td>0</td>\n",
       "      <td>1</td>\n",
       "      <td>0</td>\n",
       "      <td>0</td>\n",
       "      <td>0</td>\n",
       "    </tr>\n",
       "    <tr>\n",
       "      <th>133694</th>\n",
       "      <td>cb4b0213b7d3d576</td>\n",
       "      <td>whad up syphillisss   so why dont you actua...</td>\n",
       "      <td>0</td>\n",
       "      <td>0</td>\n",
       "      <td>0</td>\n",
       "      <td>0</td>\n",
       "      <td>1</td>\n",
       "      <td>0</td>\n",
       "    </tr>\n",
       "    <tr>\n",
       "      <th>15981</th>\n",
       "      <td>2a29777bdf204e9c</td>\n",
       "      <td>why do you edit usermikenorton talk pages    w...</td>\n",
       "      <td>1</td>\n",
       "      <td>0</td>\n",
       "      <td>0</td>\n",
       "      <td>0</td>\n",
       "      <td>0</td>\n",
       "      <td>0</td>\n",
       "    </tr>\n",
       "    <tr>\n",
       "      <th>6182</th>\n",
       "      <td>107fa8cb14766f55</td>\n",
       "      <td>dude you are such an obvious sock you are goin...</td>\n",
       "      <td>1</td>\n",
       "      <td>0</td>\n",
       "      <td>0</td>\n",
       "      <td>0</td>\n",
       "      <td>0</td>\n",
       "      <td>0</td>\n",
       "    </tr>\n",
       "    <tr>\n",
       "      <th>35856</th>\n",
       "      <td>5fccd343dfdd0b41</td>\n",
       "      <td>am a big fucking retard</td>\n",
       "      <td>1</td>\n",
       "      <td>1</td>\n",
       "      <td>1</td>\n",
       "      <td>0</td>\n",
       "      <td>1</td>\n",
       "      <td>0</td>\n",
       "    </tr>\n",
       "    <tr>\n",
       "      <th>50985</th>\n",
       "      <td>885b2e435247f714</td>\n",
       "      <td>dude do not try talking logically and kindly t...</td>\n",
       "      <td>1</td>\n",
       "      <td>0</td>\n",
       "      <td>0</td>\n",
       "      <td>0</td>\n",
       "      <td>0</td>\n",
       "      <td>0</td>\n",
       "    </tr>\n",
       "  </tbody>\n",
       "</table>\n",
       "</div>"
      ],
      "text/plain": [
       "                      id                                       comment_text  \\\n",
       "48380   8154e81593902da3  drop dead  you are a cancer on wikipedia and i...   \n",
       "23303   3d8d1b373b2b9ef6  hey bitch stop taking down our fucking event p...   \n",
       "114961  66c6426e1d8cf745   you are making a fool of yourself this is not...   \n",
       "151504  7e3645ab72b9f8eb  ok listen airplane guy  how dare you  do u hja...   \n",
       "83381   df18782baef37592  do not be deliberately dense unless of course ...   \n",
       "147515  3d876ef81c8cc38c  old redneck jokes the name   the point of the ...   \n",
       "135541  d4dc571558fad82c  the guy sounds like a def loser y do u care so...   \n",
       "46155   7b50a142ad5a428d         so fuck off and die rape fantasising sluts   \n",
       "36844   62627704f85947cf                           so you admit youre a fag   \n",
       "106743  3ae0b044c136fc42  son of a bitch i will revert your edits on ter...   \n",
       "3111    08656465bd64aba7  ihad sex with katy perry last nught and my mom...   \n",
       "5450    0e88aa059bd1d154     wow you edited the comment making me look l...   \n",
       "55886   95547763d193cf0c     rutherford b hayes edits   please refrain f...   \n",
       "129815  b6706664110874e2                    sitush is an assholedie you dog   \n",
       "75782   cac01ef1fa02770f  you can eat my shithole you can eat my shithol...   \n",
       "133694  cb4b0213b7d3d576     whad up syphillisss   so why dont you actua...   \n",
       "15981   2a29777bdf204e9c  why do you edit usermikenorton talk pages    w...   \n",
       "6182    107fa8cb14766f55  dude you are such an obvious sock you are goin...   \n",
       "35856   5fccd343dfdd0b41                            am a big fucking retard   \n",
       "50985   885b2e435247f714  dude do not try talking logically and kindly t...   \n",
       "\n",
       "        toxic  severe_toxic  obscene  threat  insult  identity_hate  \n",
       "48380       1             0        0       0       0              0  \n",
       "23303       1             0        1       0       1              1  \n",
       "114961      1             0        0       0       0              0  \n",
       "151504      1             0        0       0       0              0  \n",
       "83381       1             0        0       0       0              0  \n",
       "147515      1             0        0       0       0              0  \n",
       "135541      1             0        0       0       1              0  \n",
       "46155       1             1        1       1       1              1  \n",
       "36844       1             0        0       0       1              0  \n",
       "106743      1             0        1       0       1              0  \n",
       "3111        1             0        0       0       0              0  \n",
       "5450        1             0        0       0       0              0  \n",
       "55886       1             0        0       0       0              0  \n",
       "129815      1             0        1       1       1              0  \n",
       "75782       1             0        1       0       0              0  \n",
       "133694      0             0        0       0       1              0  \n",
       "15981       1             0        0       0       0              0  \n",
       "6182        1             0        0       0       0              0  \n",
       "35856       1             1        1       0       1              0  \n",
       "50985       1             0        0       0       0              0  "
      ]
     },
     "execution_count": 17,
     "metadata": {},
     "output_type": "execute_result"
    }
   ],
   "source": [
    "df.sample(20)"
   ]
  },
  {
   "cell_type": "code",
   "execution_count": 18,
   "id": "0dd19d5e",
   "metadata": {},
   "outputs": [],
   "source": [
    "df['flag_toxic'] = 1"
   ]
  },
  {
   "cell_type": "code",
   "execution_count": 19,
   "id": "a6789337",
   "metadata": {},
   "outputs": [
    {
     "data": {
      "text/html": [
       "<div>\n",
       "<style scoped>\n",
       "    .dataframe tbody tr th:only-of-type {\n",
       "        vertical-align: middle;\n",
       "    }\n",
       "\n",
       "    .dataframe tbody tr th {\n",
       "        vertical-align: top;\n",
       "    }\n",
       "\n",
       "    .dataframe thead th {\n",
       "        text-align: right;\n",
       "    }\n",
       "</style>\n",
       "<table border=\"1\" class=\"dataframe\">\n",
       "  <thead>\n",
       "    <tr style=\"text-align: right;\">\n",
       "      <th></th>\n",
       "      <th>id</th>\n",
       "      <th>comment_text</th>\n",
       "      <th>toxic</th>\n",
       "      <th>severe_toxic</th>\n",
       "      <th>obscene</th>\n",
       "      <th>threat</th>\n",
       "      <th>insult</th>\n",
       "      <th>identity_hate</th>\n",
       "      <th>flag_toxic</th>\n",
       "    </tr>\n",
       "  </thead>\n",
       "  <tbody>\n",
       "    <tr>\n",
       "      <th>65897</th>\n",
       "      <td>b0337c2a0bde8378</td>\n",
       "      <td>well i suppose i spoke with a wrong person y...</td>\n",
       "      <td>1</td>\n",
       "      <td>1</td>\n",
       "      <td>1</td>\n",
       "      <td>0</td>\n",
       "      <td>1</td>\n",
       "      <td>0</td>\n",
       "      <td>1</td>\n",
       "    </tr>\n",
       "    <tr>\n",
       "      <th>51171</th>\n",
       "      <td>88eb9467c820118a</td>\n",
       "      <td>your space bar is broken or does it only refus...</td>\n",
       "      <td>0</td>\n",
       "      <td>0</td>\n",
       "      <td>0</td>\n",
       "      <td>0</td>\n",
       "      <td>1</td>\n",
       "      <td>0</td>\n",
       "      <td>1</td>\n",
       "    </tr>\n",
       "    <tr>\n",
       "      <th>109241</th>\n",
       "      <td>48320a741bf7b1b3</td>\n",
       "      <td>you edit   you edit is vandal stop or die</td>\n",
       "      <td>1</td>\n",
       "      <td>0</td>\n",
       "      <td>0</td>\n",
       "      <td>1</td>\n",
       "      <td>0</td>\n",
       "      <td>0</td>\n",
       "      <td>1</td>\n",
       "    </tr>\n",
       "    <tr>\n",
       "      <th>47736</th>\n",
       "      <td>7f8693bec846cb25</td>\n",
       "      <td>chairmanofall  once again you brainless child ...</td>\n",
       "      <td>1</td>\n",
       "      <td>0</td>\n",
       "      <td>0</td>\n",
       "      <td>0</td>\n",
       "      <td>0</td>\n",
       "      <td>0</td>\n",
       "      <td>1</td>\n",
       "    </tr>\n",
       "    <tr>\n",
       "      <th>98742</th>\n",
       "      <td>103534495273980e</td>\n",
       "      <td>whats your problem  people have offered a chan...</td>\n",
       "      <td>1</td>\n",
       "      <td>0</td>\n",
       "      <td>0</td>\n",
       "      <td>0</td>\n",
       "      <td>0</td>\n",
       "      <td>0</td>\n",
       "      <td>1</td>\n",
       "    </tr>\n",
       "    <tr>\n",
       "      <th>34143</th>\n",
       "      <td>5b1c87e9f9582ad8</td>\n",
       "      <td>personal attacks  regarding your last post t...</td>\n",
       "      <td>1</td>\n",
       "      <td>0</td>\n",
       "      <td>0</td>\n",
       "      <td>0</td>\n",
       "      <td>0</td>\n",
       "      <td>0</td>\n",
       "      <td>1</td>\n",
       "    </tr>\n",
       "    <tr>\n",
       "      <th>44390</th>\n",
       "      <td>7690e7c6dd984092</td>\n",
       "      <td>get a fucking life mate or a job you are austr...</td>\n",
       "      <td>1</td>\n",
       "      <td>0</td>\n",
       "      <td>1</td>\n",
       "      <td>0</td>\n",
       "      <td>0</td>\n",
       "      <td>0</td>\n",
       "      <td>1</td>\n",
       "    </tr>\n",
       "    <tr>\n",
       "      <th>16895</th>\n",
       "      <td>2c929985c8d1f460</td>\n",
       "      <td>one thing i hate is people who talk about othe...</td>\n",
       "      <td>1</td>\n",
       "      <td>0</td>\n",
       "      <td>0</td>\n",
       "      <td>0</td>\n",
       "      <td>0</td>\n",
       "      <td>0</td>\n",
       "      <td>1</td>\n",
       "    </tr>\n",
       "    <tr>\n",
       "      <th>14875</th>\n",
       "      <td>2750cc9f61f31cbf</td>\n",
       "      <td>sorry about the editing about max hohar but it...</td>\n",
       "      <td>1</td>\n",
       "      <td>0</td>\n",
       "      <td>1</td>\n",
       "      <td>0</td>\n",
       "      <td>1</td>\n",
       "      <td>1</td>\n",
       "      <td>1</td>\n",
       "    </tr>\n",
       "    <tr>\n",
       "      <th>134599</th>\n",
       "      <td>cfd580281d70d6ee</td>\n",
       "      <td>are you gonna cry and tell wikipedia suck it u...</td>\n",
       "      <td>1</td>\n",
       "      <td>0</td>\n",
       "      <td>1</td>\n",
       "      <td>0</td>\n",
       "      <td>1</td>\n",
       "      <td>0</td>\n",
       "      <td>1</td>\n",
       "    </tr>\n",
       "  </tbody>\n",
       "</table>\n",
       "</div>"
      ],
      "text/plain": [
       "                      id                                       comment_text  \\\n",
       "65897   b0337c2a0bde8378    well i suppose i spoke with a wrong person y...   \n",
       "51171   88eb9467c820118a  your space bar is broken or does it only refus...   \n",
       "109241  48320a741bf7b1b3          you edit   you edit is vandal stop or die   \n",
       "47736   7f8693bec846cb25  chairmanofall  once again you brainless child ...   \n",
       "98742   103534495273980e  whats your problem  people have offered a chan...   \n",
       "34143   5b1c87e9f9582ad8    personal attacks  regarding your last post t...   \n",
       "44390   7690e7c6dd984092  get a fucking life mate or a job you are austr...   \n",
       "16895   2c929985c8d1f460  one thing i hate is people who talk about othe...   \n",
       "14875   2750cc9f61f31cbf  sorry about the editing about max hohar but it...   \n",
       "134599  cfd580281d70d6ee  are you gonna cry and tell wikipedia suck it u...   \n",
       "\n",
       "        toxic  severe_toxic  obscene  threat  insult  identity_hate  \\\n",
       "65897       1             1        1       0       1              0   \n",
       "51171       0             0        0       0       1              0   \n",
       "109241      1             0        0       1       0              0   \n",
       "47736       1             0        0       0       0              0   \n",
       "98742       1             0        0       0       0              0   \n",
       "34143       1             0        0       0       0              0   \n",
       "44390       1             0        1       0       0              0   \n",
       "16895       1             0        0       0       0              0   \n",
       "14875       1             0        1       0       1              1   \n",
       "134599      1             0        1       0       1              0   \n",
       "\n",
       "        flag_toxic  \n",
       "65897            1  \n",
       "51171            1  \n",
       "109241           1  \n",
       "47736            1  \n",
       "98742            1  \n",
       "34143            1  \n",
       "44390            1  \n",
       "16895            1  \n",
       "14875            1  \n",
       "134599           1  "
      ]
     },
     "execution_count": 19,
     "metadata": {},
     "output_type": "execute_result"
    }
   ],
   "source": [
    "df.sample(10)"
   ]
  },
  {
   "cell_type": "code",
   "execution_count": 20,
   "id": "15ff245d",
   "metadata": {},
   "outputs": [],
   "source": [
    "df.drop(['toxic', 'severe_toxic', 'obscene', 'threat', 'insult', 'identity_hate'], axis = 1, inplace=True)"
   ]
  },
  {
   "cell_type": "code",
   "execution_count": 21,
   "id": "84bc803a",
   "metadata": {},
   "outputs": [
    {
     "data": {
      "text/html": [
       "<div>\n",
       "<style scoped>\n",
       "    .dataframe tbody tr th:only-of-type {\n",
       "        vertical-align: middle;\n",
       "    }\n",
       "\n",
       "    .dataframe tbody tr th {\n",
       "        vertical-align: top;\n",
       "    }\n",
       "\n",
       "    .dataframe thead th {\n",
       "        text-align: right;\n",
       "    }\n",
       "</style>\n",
       "<table border=\"1\" class=\"dataframe\">\n",
       "  <thead>\n",
       "    <tr style=\"text-align: right;\">\n",
       "      <th></th>\n",
       "      <th>id</th>\n",
       "      <th>comment_text</th>\n",
       "      <th>flag_toxic</th>\n",
       "    </tr>\n",
       "  </thead>\n",
       "  <tbody>\n",
       "    <tr>\n",
       "      <th>6</th>\n",
       "      <td>0002bcb3da6cb337</td>\n",
       "      <td>cocksucker before you piss around on my work</td>\n",
       "      <td>1</td>\n",
       "    </tr>\n",
       "    <tr>\n",
       "      <th>12</th>\n",
       "      <td>0005c987bdfc9d4b</td>\n",
       "      <td>hey what is it   talk  what is it an exclusive...</td>\n",
       "      <td>1</td>\n",
       "    </tr>\n",
       "    <tr>\n",
       "      <th>16</th>\n",
       "      <td>0007e25b2121310b</td>\n",
       "      <td>bye   do not look come or think of comming bac...</td>\n",
       "      <td>1</td>\n",
       "    </tr>\n",
       "    <tr>\n",
       "      <th>42</th>\n",
       "      <td>001810bf8c45bf5f</td>\n",
       "      <td>you are gay or antisemmitian   archangel white...</td>\n",
       "      <td>1</td>\n",
       "    </tr>\n",
       "    <tr>\n",
       "      <th>43</th>\n",
       "      <td>00190820581d90ce</td>\n",
       "      <td>fuck your filthy mother in the ass dry</td>\n",
       "      <td>1</td>\n",
       "    </tr>\n",
       "    <tr>\n",
       "      <th>...</th>\n",
       "      <td>...</td>\n",
       "      <td>...</td>\n",
       "      <td>...</td>\n",
       "    </tr>\n",
       "    <tr>\n",
       "      <th>159494</th>\n",
       "      <td>fef4cf7ba0012866</td>\n",
       "      <td>our previous conversation   you fucking shi...</td>\n",
       "      <td>1</td>\n",
       "    </tr>\n",
       "    <tr>\n",
       "      <th>159514</th>\n",
       "      <td>ff39a2895fc3b40e</td>\n",
       "      <td>you are a mischievious pubic hair</td>\n",
       "      <td>1</td>\n",
       "    </tr>\n",
       "    <tr>\n",
       "      <th>159541</th>\n",
       "      <td>ffa33d3122b599d6</td>\n",
       "      <td>your absurd edits   your absurd edits on great...</td>\n",
       "      <td>1</td>\n",
       "    </tr>\n",
       "    <tr>\n",
       "      <th>159546</th>\n",
       "      <td>ffb47123b2d82762</td>\n",
       "      <td>hey listen do not you ever delete my edits e...</td>\n",
       "      <td>1</td>\n",
       "    </tr>\n",
       "    <tr>\n",
       "      <th>159554</th>\n",
       "      <td>ffbdbb0483ed0841</td>\n",
       "      <td>and i am going to keep posting the stuff u del...</td>\n",
       "      <td>1</td>\n",
       "    </tr>\n",
       "  </tbody>\n",
       "</table>\n",
       "<p>16225 rows × 3 columns</p>\n",
       "</div>"
      ],
      "text/plain": [
       "                      id                                       comment_text  \\\n",
       "6       0002bcb3da6cb337       cocksucker before you piss around on my work   \n",
       "12      0005c987bdfc9d4b  hey what is it   talk  what is it an exclusive...   \n",
       "16      0007e25b2121310b  bye   do not look come or think of comming bac...   \n",
       "42      001810bf8c45bf5f  you are gay or antisemmitian   archangel white...   \n",
       "43      00190820581d90ce             fuck your filthy mother in the ass dry   \n",
       "...                  ...                                                ...   \n",
       "159494  fef4cf7ba0012866     our previous conversation   you fucking shi...   \n",
       "159514  ff39a2895fc3b40e                  you are a mischievious pubic hair   \n",
       "159541  ffa33d3122b599d6  your absurd edits   your absurd edits on great...   \n",
       "159546  ffb47123b2d82762    hey listen do not you ever delete my edits e...   \n",
       "159554  ffbdbb0483ed0841  and i am going to keep posting the stuff u del...   \n",
       "\n",
       "        flag_toxic  \n",
       "6                1  \n",
       "12               1  \n",
       "16               1  \n",
       "42               1  \n",
       "43               1  \n",
       "...            ...  \n",
       "159494           1  \n",
       "159514           1  \n",
       "159541           1  \n",
       "159546           1  \n",
       "159554           1  \n",
       "\n",
       "[16225 rows x 3 columns]"
      ]
     },
     "execution_count": 21,
     "metadata": {},
     "output_type": "execute_result"
    }
   ],
   "source": [
    "df"
   ]
  },
  {
   "cell_type": "code",
   "execution_count": 8,
   "id": "e8a29087",
   "metadata": {},
   "outputs": [],
   "source": [
    "embedder = SentenceTransformer('bert-base-nli-mean-tokens')"
   ]
  },
  {
   "cell_type": "code",
   "execution_count": 23,
   "id": "d2fa630a",
   "metadata": {},
   "outputs": [],
   "source": [
    "query = df['comment_text'].tolist()"
   ]
  },
  {
   "cell_type": "code",
   "execution_count": 24,
   "id": "f6008ced",
   "metadata": {},
   "outputs": [],
   "source": [
    "query_embeddings = embedder.encode(query)"
   ]
  },
  {
   "cell_type": "code",
   "execution_count": 1,
   "id": "7fc56d2d",
   "metadata": {},
   "outputs": [],
   "source": [
    "\n",
    "# with open('query_embeddings_clean.pickle', 'wb') as file:\n",
    "#     pickle.dump(query_embeddings, file)\n",
    "#     file.close()"
   ]
  },
  {
   "cell_type": "code",
   "execution_count": 2,
   "id": "a9449654",
   "metadata": {},
   "outputs": [],
   "source": [
    "import pickle \n",
    "with open('query_embeddings_clean.pickle', 'rb') as file:\n",
    "    \n",
    "    query_embeddings = pickle.load(file)"
   ]
  },
  {
   "cell_type": "code",
   "execution_count": 3,
   "id": "c65db15a",
   "metadata": {},
   "outputs": [],
   "source": [
    "import scipy"
   ]
  },
  {
   "cell_type": "code",
   "execution_count": 18,
   "id": "f6301fdc",
   "metadata": {},
   "outputs": [
    {
     "name": "stdout",
     "output_type": "stream",
     "text": [
      "[0.05024188]\n"
     ]
    }
   ],
   "source": [
    "\n",
    "\n",
    "def check(value):\n",
    "    corpus_embeddings = embedder.encode(value)\n",
    "    distances = scipy.spatial.distance.cdist(query_embeddings, [corpus_embeddings], \"cosine\")[0]\n",
    "    print(1-distances)\n",
    "    if(1-distances>=0.5):\n",
    "        x = 'The above statement needs to be flagged'\n",
    "        return x\n",
    "    \n",
    "    else:\n",
    "        x = 'Nothing wrong here'\n",
    "        return x\n",
    "    \n",
    "    \n",
    "value = check('It was a good day !')\n"
   ]
  },
  {
   "cell_type": "code",
   "execution_count": 19,
   "id": "d98f0e8b",
   "metadata": {},
   "outputs": [
    {
     "name": "stdout",
     "output_type": "stream",
     "text": [
      "[0.05024188]\n"
     ]
    },
    {
     "data": {
      "text/plain": [
       "'Nothing wrong here'"
      ]
     },
     "execution_count": 19,
     "metadata": {},
     "output_type": "execute_result"
    }
   ],
   "source": [
    "value = check('It was a good day !')\n",
    "value"
   ]
  },
  {
   "cell_type": "code",
   "execution_count": 37,
   "id": "2d7380db",
   "metadata": {},
   "outputs": [
    {
     "name": "stdout",
     "output_type": "stream",
     "text": [
      "[0.62924553]\n"
     ]
    },
    {
     "data": {
      "text/plain": [
       "'The above statement needs to be flagged'"
      ]
     },
     "execution_count": 37,
     "metadata": {},
     "output_type": "execute_result"
    }
   ],
   "source": [
    "value = check('Shut up you imbecile !')\n",
    "value"
   ]
  },
  {
   "cell_type": "code",
   "execution_count": 38,
   "id": "f147ec22",
   "metadata": {},
   "outputs": [
    {
     "name": "stdout",
     "output_type": "stream",
     "text": [
      "[0.55886211]\n"
     ]
    },
    {
     "data": {
      "text/plain": [
       "'The above statement needs to be flagged'"
      ]
     },
     "execution_count": 38,
     "metadata": {},
     "output_type": "execute_result"
    }
   ],
   "source": [
    "value = check('take your dumb @$$ away from here')\n",
    "value"
   ]
  },
  {
   "cell_type": "code",
   "execution_count": 41,
   "id": "ac3ac773",
   "metadata": {},
   "outputs": [
    {
     "name": "stdout",
     "output_type": "stream",
     "text": [
      "[0.29671097]\n"
     ]
    },
    {
     "data": {
      "text/plain": [
       "'Nothing wrong here'"
      ]
     },
     "execution_count": 41,
     "metadata": {},
     "output_type": "execute_result"
    }
   ],
   "source": [
    "value = check('I prefer supporting the usual norms rather than doing something revolutionary')\n",
    "value"
   ]
  },
  {
   "cell_type": "code",
   "execution_count": 34,
   "id": "de61d4ae",
   "metadata": {},
   "outputs": [
    {
     "name": "stdout",
     "output_type": "stream",
     "text": [
      "[0.56890382]\n"
     ]
    },
    {
     "data": {
      "text/plain": [
       "'The above statement needs to be flagged'"
      ]
     },
     "execution_count": 34,
     "metadata": {},
     "output_type": "execute_result"
    }
   ],
   "source": [
    "# !pip install gradio\n",
    "value = check('shut up u moron')\n",
    "value"
   ]
  },
  {
   "cell_type": "code",
   "execution_count": 33,
   "id": "de0c298d",
   "metadata": {},
   "outputs": [
    {
     "name": "stdout",
     "output_type": "stream",
     "text": [
      "[0.60008562]\n"
     ]
    },
    {
     "data": {
      "text/plain": [
       "'The above statement needs to be flagged'"
      ]
     },
     "execution_count": 33,
     "metadata": {},
     "output_type": "execute_result"
    }
   ],
   "source": [
    "value = check('fuck you moron')\n",
    "value"
   ]
  },
  {
   "cell_type": "code",
   "execution_count": 31,
   "id": "9585b41a",
   "metadata": {},
   "outputs": [],
   "source": [
    "# import gradio as gr\n",
    "\n",
    "# iface = gr.Interface(fn=check, inputs=[\"text\"], outputs=[\"text\"])"
   ]
  },
  {
   "cell_type": "code",
   "execution_count": 32,
   "id": "82ec53d4",
   "metadata": {},
   "outputs": [],
   "source": [
    "# !pip install anyio==3 starlette"
   ]
  },
  {
   "cell_type": "code",
   "execution_count": null,
   "id": "8031cd81",
   "metadata": {},
   "outputs": [],
   "source": []
  },
  {
   "cell_type": "code",
   "execution_count": null,
   "id": "b0f3dc12",
   "metadata": {},
   "outputs": [],
   "source": []
  }
 ],
 "metadata": {
  "kernelspec": {
   "display_name": "Python 3",
   "language": "python",
   "name": "python3"
  },
  "language_info": {
   "codemirror_mode": {
    "name": "ipython",
    "version": 3
   },
   "file_extension": ".py",
   "mimetype": "text/x-python",
   "name": "python",
   "nbconvert_exporter": "python",
   "pygments_lexer": "ipython3",
   "version": "3.8.8"
  }
 },
 "nbformat": 4,
 "nbformat_minor": 5
}
